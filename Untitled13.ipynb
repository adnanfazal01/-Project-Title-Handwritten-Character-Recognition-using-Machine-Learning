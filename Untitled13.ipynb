{
  "nbformat": 4,
  "nbformat_minor": 0,
  "metadata": {
    "colab": {
      "provenance": []
    },
    "kernelspec": {
      "name": "python3",
      "display_name": "Python 3"
    },
    "language_info": {
      "name": "python"
    }
  },
  "cells": [
    {
      "cell_type": "code",
      "source": [
        "import numpy as np\n",
        "import pandas as pd\n",
        "import matplotlib.pyplot as plt\n",
        "from sklearn.model_selection import train_test_split\n",
        "from sklearn.preprocessing import LabelBinarizer\n",
        "from tensorflow.keras.models import Sequential\n",
        "from tensorflow.keras.layers import Input, Conv2D, MaxPooling2D, Flatten, Dense, Dropout\n",
        "from tensorflow.keras.optimizers import Adam\n",
        "\n",
        "# Step 1: Load dataset\n",
        "df = pd.read_csv(\"A_Z Handwritten Data.csv\").astype('float32')\n",
        "# Step 2: Separate features and labels\n",
        "X = df.drop('0', axis=1).values     # pixel data\n",
        "y = df['0'].values                  # character labels (0 to 25)\n",
        "# Step 3: Normalize pixel values and reshape for CNN\n",
        "X = X / 255.0\n",
        "X = X.reshape(-1, 28, 28, 1)\n",
        "# Step 4: One-hot encode labels (0 to 25 → 26 classes)\n",
        "lb = LabelBinarizer()\n",
        "y = lb.fit_transform(y)"
      ],
      "metadata": {
        "id": "yxhxBv96-qH_"
      },
      "execution_count": 24,
      "outputs": []
    },
    {
      "cell_type": "code",
      "source": [
        "# Step 5: Split into train and test sets\n",
        "X_train, X_test, y_train, y_test = train_test_split(\n",
        "    X, y, test_size=0.2, random_state=42\n",
        ")\n"
      ],
      "metadata": {
        "id": "jfQNWVHe_Zsm"
      },
      "execution_count": 16,
      "outputs": []
    },
    {
      "cell_type": "code",
      "source": [
        "# Step 6: Build CNN model\n",
        "model = Sequential([\n",
        "    Input(shape=(28, 28, 1)),\n",
        "    Conv2D(32, (3, 3), activation='relu'),\n",
        "    MaxPooling2D(2, 2),\n",
        "    Conv2D(64, (3, 3), activation='relu'),\n",
        "    MaxPooling2D(2, 2),\n",
        "    Flatten(),\n",
        "    Dense(128, activation='relu'),\n",
        "    Dropout(0.5),\n",
        "    Dense(26, activation='softmax')\n",
        "])\n",
        "\n",
        "model.compile(optimizer=Adam(),\n",
        "              loss='categorical_crossentropy',\n",
        "              metrics=['accuracy'])"
      ],
      "metadata": {
        "id": "84UIf7df_eLm"
      },
      "execution_count": 18,
      "outputs": []
    },
    {
      "cell_type": "code",
      "source": [
        "# Step 7: Train the model\n",
        "print(\"Training model...\")\n",
        "model.fit(X_train, y_train,\n",
        "          epochs=5,\n",
        "          batch_size=128,\n",
        "          validation_data=(X_test, y_test),\n",
        "          verbose=2)\n"
      ],
      "metadata": {
        "colab": {
          "base_uri": "https://localhost:8080/"
        },
        "id": "E38usPsh_im8",
        "outputId": "f6bc2702-60bb-4d2d-ad7a-e603ecca90fc"
      },
      "execution_count": 19,
      "outputs": [
        {
          "output_type": "stream",
          "name": "stdout",
          "text": [
            "Training model...\n",
            "Epoch 1/5\n",
            "2295/2295 - 238s - 104ms/step - accuracy: 0.9101 - loss: 0.3135 - val_accuracy: 0.9788 - val_loss: nan\n",
            "Epoch 2/5\n",
            "2295/2295 - 267s - 116ms/step - accuracy: 0.9632 - loss: 0.1313 - val_accuracy: 0.9844 - val_loss: nan\n",
            "Epoch 3/5\n",
            "2295/2295 - 253s - 110ms/step - accuracy: 0.9716 - loss: 0.1017 - val_accuracy: 0.9856 - val_loss: nan\n",
            "Epoch 4/5\n",
            "2295/2295 - 268s - 117ms/step - accuracy: 0.9766 - loss: 0.0826 - val_accuracy: 0.9875 - val_loss: nan\n",
            "Epoch 5/5\n",
            "2295/2295 - 260s - 113ms/step - accuracy: 0.9796 - loss: 0.0724 - val_accuracy: 0.9887 - val_loss: nan\n"
          ]
        },
        {
          "output_type": "execute_result",
          "data": {
            "text/plain": [
              "<keras.src.callbacks.history.History at 0x79ed95a8cd10>"
            ]
          },
          "metadata": {},
          "execution_count": 19
        }
      ]
    },
    {
      "cell_type": "code",
      "source": [
        "# Step 8: Evaluate model\n",
        "loss, acc = model.evaluate(X_test, y_test)\n",
        "print(f\"\\n✅ Test Accuracy: {acc:.4f}\")"
      ],
      "metadata": {
        "colab": {
          "base_uri": "https://localhost:8080/"
        },
        "id": "vMj1ybmuEru5",
        "outputId": "ae5fcad8-f912-44a5-ebcf-b74104796f3c"
      },
      "execution_count": 20,
      "outputs": [
        {
          "output_type": "stream",
          "name": "stdout",
          "text": [
            "\u001b[1m2295/2295\u001b[0m \u001b[32m━━━━━━━━━━━━━━━━━━━━\u001b[0m\u001b[37m\u001b[0m \u001b[1m24s\u001b[0m 11ms/step - accuracy: 0.9889 - loss: nan\n",
            "\n",
            "✅ Test Accuracy: 0.9887\n"
          ]
        }
      ]
    },
    {
      "cell_type": "code",
      "source": [
        "# Step 9: Predict a random sample\n",
        "idx = np.random.randint(0, len(X_test))\n",
        "sample = X_test[idx]\n",
        "true_label = np.argmax(y_test[idx])\n",
        "pred = model.predict(sample.reshape(1, 28, 28, 1))\n",
        "predicted_label = np.argmax(pred)"
      ],
      "metadata": {
        "colab": {
          "base_uri": "https://localhost:8080/"
        },
        "id": "gOFrSQOpE5iS",
        "outputId": "bcca1650-91af-478a-aa5f-d471c30a65f4"
      },
      "execution_count": 21,
      "outputs": [
        {
          "output_type": "stream",
          "name": "stdout",
          "text": [
            "\u001b[1m1/1\u001b[0m \u001b[32m━━━━━━━━━━━━━━━━━━━━\u001b[0m\u001b[37m\u001b[0m \u001b[1m0s\u001b[0m 177ms/step\n"
          ]
        }
      ]
    },
    {
      "cell_type": "code",
      "source": [
        "# Step 10: Show prediction\n",
        "plt.imshow(sample.reshape(28, 28), cmap='gray')\n",
        "plt.title(f\"Actual: {chr(true_label + 65)} | Predicted: {chr(predicted_label + 65)}\")\n",
        "plt.axis('off')\n",
        "plt.show()"
      ],
      "metadata": {
        "colab": {
          "base_uri": "https://localhost:8080/",
          "height": 428
        },
        "id": "tB_d2uaxE7se",
        "outputId": "6171c450-bd31-41ed-bb08-2b2ae4aa01e1"
      },
      "execution_count": 22,
      "outputs": [
        {
          "output_type": "display_data",
          "data": {
            "text/plain": [
              "<Figure size 640x480 with 1 Axes>"
            ],
            "image/png": "[encoded data removed]"
          },
          "metadata": {}
        }
      ]
    }
  ]
}